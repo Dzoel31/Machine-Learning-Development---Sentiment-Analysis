{
 "cells": [
  {
   "cell_type": "markdown",
   "metadata": {},
   "source": [
    "# Proyek Dicoding: Sentimen Analisis Pada Game Minecraft\n",
    "\n",
    "\n",
    "- Nama: Dzulfikri Adjmal\n",
    "- Email: dzulfikriadjmal@gmail.com\n",
    "- ID Dicoding: dzulfikriadjmal"
   ]
  },
  {
   "cell_type": "code",
   "execution_count": 5,
   "metadata": {},
   "outputs": [],
   "source": [
    "import pandas as pd\n",
    "from google_play_scraper import Sort, reviews\n",
    "import os\n",
    "import csv\n",
    "\n",
    "\n",
    "pd.options.mode.chained_assignment = None"
   ]
  },
  {
   "cell_type": "markdown",
   "metadata": {},
   "source": [
    "### Scraping Data Games Minecraft"
   ]
  },
  {
   "cell_type": "code",
   "execution_count": 2,
   "metadata": {},
   "outputs": [],
   "source": [
    "COUNTS = 50000\n",
    "APPS_NAME = \"minecraft\"\n",
    "APPS_ID = \"com.mojang.minecraftpe\""
   ]
  },
  {
   "cell_type": "code",
   "execution_count": 3,
   "metadata": {},
   "outputs": [],
   "source": [
    "scraper = reviews(\n",
    "    app_id=APPS_ID,\n",
    "    lang=\"id\",\n",
    "    country=\"id\",\n",
    "    sort=Sort.MOST_RELEVANT,\n",
    "    count=COUNTS,\n",
    ")\n"
   ]
  },
  {
   "cell_type": "code",
   "execution_count": 6,
   "metadata": {},
   "outputs": [],
   "source": [
    "if not os.path.exists(\"./dataset\"):\n",
    "    os.makedirs(\"./dataset\")\n",
    "\n",
    "with open(\n",
    "    f\"./dataset/ulasan_{APPS_NAME}_{COUNTS}.csv\", mode=\"w+\", newline=\"\", encoding=\"utf-8\"\n",
    ") as file:\n",
    "    writer = csv.writer(file)\n",
    "    writer.writerow([\"Review\"])  # Menulis header kolom\n",
    "    for review in scraper[0]:\n",
    "        writer.writerow([review[\"content\"]])\n"
   ]
  },
  {
   "cell_type": "code",
   "execution_count": 7,
   "metadata": {},
   "outputs": [
    {
     "name": "stdout",
     "output_type": "stream",
     "text": [
      "<class 'pandas.core.frame.DataFrame'>\n",
      "RangeIndex: 50000 entries, 0 to 49999\n",
      "Data columns (total 1 columns):\n",
      " #   Column  Non-Null Count  Dtype \n",
      "---  ------  --------------  ----- \n",
      " 0   Review  49999 non-null  object\n",
      "dtypes: object(1)\n",
      "memory usage: 390.8+ KB\n"
     ]
    }
   ],
   "source": [
    "df_reviews = pd.read_csv(f\"./dataset/ulasan_{APPS_NAME}_{COUNTS}.csv\")\n",
    "df_reviews.info()"
   ]
  },
  {
   "cell_type": "code",
   "execution_count": 8,
   "metadata": {},
   "outputs": [
    {
     "data": {
      "text/html": [
       "<div>\n",
       "<style scoped>\n",
       "    .dataframe tbody tr th:only-of-type {\n",
       "        vertical-align: middle;\n",
       "    }\n",
       "\n",
       "    .dataframe tbody tr th {\n",
       "        vertical-align: top;\n",
       "    }\n",
       "\n",
       "    .dataframe thead th {\n",
       "        text-align: right;\n",
       "    }\n",
       "</style>\n",
       "<table border=\"1\" class=\"dataframe\">\n",
       "  <thead>\n",
       "    <tr style=\"text-align: right;\">\n",
       "      <th></th>\n",
       "      <th>Review</th>\n",
       "    </tr>\n",
       "  </thead>\n",
       "  <tbody>\n",
       "    <tr>\n",
       "      <th>0</th>\n",
       "      <td>Bagus sih,cuma tolong fix di bagian freeze. Ma...</td>\n",
       "    </tr>\n",
       "    <tr>\n",
       "      <th>1</th>\n",
       "      <td>Sedikit kecewa di update 1.21.2, bukannya tamb...</td>\n",
       "    </tr>\n",
       "    <tr>\n",
       "      <th>2</th>\n",
       "      <td>Sudah sangat bagus, saya sudah bermain sangat ...</td>\n",
       "    </tr>\n",
       "    <tr>\n",
       "      <th>3</th>\n",
       "      <td>Gamenya bagus mantap dari dulu sampe sekarang....</td>\n",
       "    </tr>\n",
       "    <tr>\n",
       "      <th>4</th>\n",
       "      <td>Terima kasih mojang studios atas diskon besar ...</td>\n",
       "    </tr>\n",
       "  </tbody>\n",
       "</table>\n",
       "</div>"
      ],
      "text/plain": [
       "                                              Review\n",
       "0  Bagus sih,cuma tolong fix di bagian freeze. Ma...\n",
       "1  Sedikit kecewa di update 1.21.2, bukannya tamb...\n",
       "2  Sudah sangat bagus, saya sudah bermain sangat ...\n",
       "3  Gamenya bagus mantap dari dulu sampe sekarang....\n",
       "4  Terima kasih mojang studios atas diskon besar ..."
      ]
     },
     "execution_count": 8,
     "metadata": {},
     "output_type": "execute_result"
    }
   ],
   "source": [
    "df_reviews.head()"
   ]
  }
 ],
 "metadata": {
  "kernelspec": {
   "display_name": "env",
   "language": "python",
   "name": "python3"
  },
  "language_info": {
   "codemirror_mode": {
    "name": "ipython",
    "version": 3
   },
   "file_extension": ".py",
   "mimetype": "text/x-python",
   "name": "python",
   "nbconvert_exporter": "python",
   "pygments_lexer": "ipython3",
   "version": "3.12.4"
  }
 },
 "nbformat": 4,
 "nbformat_minor": 2
}
